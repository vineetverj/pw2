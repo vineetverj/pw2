{
 "cells": [
  {
   "cell_type": "code",
   "execution_count": 1,
   "id": "c093318e-b345-4fd8-9aed-216f081e47b7",
   "metadata": {},
   "outputs": [],
   "source": [
    "##Q1. Which keyword is used to create a function? Create a function to return a list of odd numbers in the\n",
    "##range of 1 to 25."
   ]
  },
  {
   "cell_type": "code",
   "execution_count": 3,
   "id": "ee5ea6da-a056-42e2-a4cb-18829ba55be0",
   "metadata": {},
   "outputs": [],
   "source": [
    "The keyword used to create a function in most programming languages, including Python, is \"def\" (short for \"define\")."
   ]
  },
  {
   "cell_type": "code",
   "execution_count": null,
   "id": "dd33009b-9c6e-407b-aae6-e5ce6e661e00",
   "metadata": {},
   "outputs": [
    {
     "name": "stdout",
     "output_type": "stream",
     "text": [
      "[1, 3, 5, 7, 9, 11, 13, 15, 17, 19, 21, 23, 25]\n"
     ]
    }
   ],
   "source": [
    "def get_odd(limit):\n",
    "    i=1\n",
    "    odd1 = []\n",
    "    while i<=limit:\n",
    "        if i%2 != 0:\n",
    "            odd1.append(i)\n",
    "        i = i+1\n",
    "    return odd1\n",
    "\n",
    "result = get_odd(25)\n",
    "print(result)\n",
    "        \n",
    "            \n",
    " "
   ]
  },
  {
   "cell_type": "code",
   "execution_count": null,
   "id": "2209f8d3-46f6-4e06-a9fd-e2c11f404dc7",
   "metadata": {},
   "outputs": [],
   "source": [
    "Q2. Why *args and **kwargs is used in some functions? Create a function each for *args and **kwargs \n",
    "to demonstrate their use.\n",
    "\n",
    "\n",
    "\n",
    "args: It is used to pass a variable number of positional arguments to a function. The name args is just a convention; you can use any name preceded by an asterisk (*). \n",
    "The function will treat the arguments passed as a tuple."
   ]
  },
  {
   "cell_type": "code",
   "execution_count": 28,
   "id": "c49708b8-1c66-489e-848e-6da42f97d3d1",
   "metadata": {},
   "outputs": [
    {
     "name": "stdout",
     "output_type": "stream",
     "text": [
      "9\n",
      "6\n"
     ]
    }
   ],
   "source": [
    "def sum_args(*sum):\n",
    "    total = 0\n",
    "    for num in sum:\n",
    "        \n",
    "        total = total+num\n",
    "    return total\n",
    "result = sum_args(1,3,5)\n",
    "result1 = sum_args(1,1,1,1,1,1)\n",
    "print(result)\n",
    "print(result1)\n"
   ]
  },
  {
   "cell_type": "code",
   "execution_count": 26,
   "id": "d97e084c-1932-4353-b36a-cf78996d15f9",
   "metadata": {},
   "outputs": [],
   "source": [
    "**kwargs: It is used to pass a variable number of keyword arguments (i.e., named arguments) to a function. The name kwargs is again a convention,\n",
    "and you can use any name preceded by two asterisks (**). \n",
    "The function will treat the arguments passed as a dictionary, where the keys are the argument names, and the values are the argument values"
   ]
  },
  {
   "cell_type": "code",
   "execution_count": 29,
   "id": "5f0a1db1-ce10-42ae-a153-b470a8f052d9",
   "metadata": {},
   "outputs": [
    {
     "name": "stdout",
     "output_type": "stream",
     "text": [
      "name: John\n",
      "age: 30\n",
      "city: New York\n",
      "animal: dog\n",
      "color: brown\n",
      "breed: labrador\n"
     ]
    }
   ],
   "source": [
    "def print_kwargs(**kwargs):\n",
    "    for key, value in kwargs.items():\n",
    "        print(f\"{key}: {value}\")\n",
    "\n",
    "\n",
    "print_kwargs(name=\"John\", age=30, city=\"New York\")\n",
    "print_kwargs(animal=\"dog\", color=\"brown\", breed=\"labrador\")\n"
   ]
  },
  {
   "cell_type": "code",
   "execution_count": 30,
   "id": "708f8e8f-9164-4d27-8f46-1792e0f68dff",
   "metadata": {},
   "outputs": [],
   "source": [
    "Q3.  What is an iterator in python? Name the method used to initialise the iterator object and the method \n",
    "used for iteration. Use these methods to print the first five elements of the given list [2, 4, 6, 8, 10, 12, 14, \n",
    "16, 18, 20]."
   ]
  },
  {
   "cell_type": "code",
   "execution_count": 31,
   "id": "2d0af220-d9f1-4d91-aef3-28a884229d82",
   "metadata": {},
   "outputs": [],
   "source": [
    "An iterator is an object that allows sequential access to a collection of elements, one at a time, \n",
    "without the need to know the underlying data structure. \n",
    "Iterators are used to loop over elements in a container like lists, tuples, dictionaries, etc.\n",
    "\n"
   ]
  },
  {
   "cell_type": "code",
   "execution_count": 32,
   "id": "84e2441e-4ca6-471a-bdd4-7cb187530c8c",
   "metadata": {},
   "outputs": [],
   "source": [
    "my_list1 =[2,4,6,8,10,12,14,16,18,20]"
   ]
  },
  {
   "cell_type": "code",
   "execution_count": 33,
   "id": "a89039c9-6e8f-487e-a320-d09ea27ceba9",
   "metadata": {},
   "outputs": [
    {
     "name": "stdout",
     "output_type": "stream",
     "text": [
      "2\n",
      "4\n",
      "6\n",
      "8\n",
      "10\n"
     ]
    }
   ],
   "source": [
    "my_iterator = iter(my_list1)\n",
    "for _ in range(5):\n",
    "    \n",
    "    element = next(my_iterator)\n",
    "    \n",
    "    print(element)\n",
    "    "
   ]
  },
  {
   "cell_type": "code",
   "execution_count": 34,
   "id": "9131d12d-a7cf-4c55-a023-e72604c7e85c",
   "metadata": {},
   "outputs": [],
   "source": [
    "Q4.  What is a generator function in python? Why yield keyword is used? Give an example of a generator \n",
    "function."
   ]
  },
  {
   "cell_type": "code",
   "execution_count": 36,
   "id": "97d36dc5-aecf-4bf3-a233-edec7f6b1729",
   "metadata": {},
   "outputs": [],
   "source": [
    "A generator function is a special type of function that allows you to create iterators using the yield keyword. Unlike regular\n",
    "functions that return a value and terminate, generator functions use the yield keyword to produce a series of values one at a time, \n",
    "and they retain their state between calls. This means that the function's \n",
    "execution is paused, and it can be resumed later from where it left off when next() is called again on the generator object.\""
   ]
  },
  {
   "cell_type": "code",
   "execution_count": 43,
   "id": "75eb63b4-fe8a-4677-b884-1bdfff6182a6",
   "metadata": {},
   "outputs": [
    {
     "name": "stdout",
     "output_type": "stream",
     "text": [
      "0\n",
      "1\n",
      "4\n",
      "9\n",
      "16\n"
     ]
    }
   ],
   "source": [
    "def square(limit):\n",
    "    for i in range(limit):\n",
    "        yield i**2\n",
    "gen = square(5)\n",
    "print(next(gen))\n",
    "print(next(gen))\n",
    "print(next(gen))\n",
    "print(next(gen))\n",
    "print(next(gen))\n",
    "\n",
    "\n",
    "\n",
    "\n",
    "\n"
   ]
  },
  {
   "cell_type": "code",
   "execution_count": 44,
   "id": "4d1fe8e6-9e91-46a4-8ccd-3a14e6c6b19b",
   "metadata": {},
   "outputs": [],
   "source": [
    "Q5. Create a generator function for prime numbers less than 1000. Use the next() method to print the \n",
    "first 20 prime numbers"
   ]
  },
  {
   "cell_type": "code",
   "execution_count": 59,
   "id": "b34674cf-2f7b-47c0-a875-f2994cfe9ce5",
   "metadata": {},
   "outputs": [
    {
     "ename": "NameError",
     "evalue": "name 'false' is not defined",
     "output_type": "error",
     "traceback": [
      "\u001b[0;31m---------------------------------------------------------------------------\u001b[0m",
      "\u001b[0;31mNameError\u001b[0m                                 Traceback (most recent call last)",
      "Cell \u001b[0;32mIn [59], line 17\u001b[0m\n\u001b[1;32m     14\u001b[0m primes_gen \u001b[38;5;241m=\u001b[39m primes(\u001b[38;5;241m1000\u001b[39m)\n\u001b[1;32m     16\u001b[0m \u001b[38;5;28;01mfor\u001b[39;00m _ \u001b[38;5;129;01min\u001b[39;00m \u001b[38;5;28mrange\u001b[39m(\u001b[38;5;241m20\u001b[39m):\n\u001b[0;32m---> 17\u001b[0m     \u001b[38;5;28mprint\u001b[39m(\u001b[38;5;28;43mnext\u001b[39;49m\u001b[43m(\u001b[49m\u001b[43mprimes_gen\u001b[49m\u001b[43m)\u001b[49m)\n",
      "Cell \u001b[0;32mIn [59], line 11\u001b[0m, in \u001b[0;36mprimes\u001b[0;34m(limit)\u001b[0m\n\u001b[1;32m      9\u001b[0m num \u001b[38;5;241m=\u001b[39m \u001b[38;5;241m2\u001b[39m\n\u001b[1;32m     10\u001b[0m \u001b[38;5;28;01mwhile\u001b[39;00m num \u001b[38;5;241m<\u001b[39mlimit:\n\u001b[0;32m---> 11\u001b[0m     \u001b[38;5;28;01mif\u001b[39;00m \u001b[43mis_prime\u001b[49m\u001b[43m(\u001b[49m\u001b[43mnum\u001b[49m\u001b[43m)\u001b[49m:\n\u001b[1;32m     12\u001b[0m         \u001b[38;5;28;01myield\u001b[39;00m num\n\u001b[1;32m     13\u001b[0m     num \u001b[38;5;241m+\u001b[39m\u001b[38;5;241m=\u001b[39m \u001b[38;5;241m1\u001b[39m\n",
      "Cell \u001b[0;32mIn [59], line 6\u001b[0m, in \u001b[0;36mis_prime\u001b[0;34m(num)\u001b[0m\n\u001b[1;32m      4\u001b[0m \u001b[38;5;28;01mfor\u001b[39;00m i \u001b[38;5;129;01min\u001b[39;00m \u001b[38;5;28mrange\u001b[39m(\u001b[38;5;241m2\u001b[39m,\u001b[38;5;28mint\u001b[39m(num\u001b[38;5;241m*\u001b[39m\u001b[38;5;241m*\u001b[39m\u001b[38;5;241m0.5\u001b[39m)\u001b[38;5;241m+\u001b[39m\u001b[38;5;241m1\u001b[39m):\n\u001b[1;32m      5\u001b[0m     \u001b[38;5;28;01mif\u001b[39;00m num\u001b[38;5;241m%\u001b[39m\u001b[38;5;241m2\u001b[39m \u001b[38;5;241m==\u001b[39m \u001b[38;5;241m0\u001b[39m:\n\u001b[0;32m----> 6\u001b[0m         \u001b[38;5;28;01mreturn\u001b[39;00m \u001b[43mfalse\u001b[49m\n\u001b[1;32m      7\u001b[0m     \u001b[38;5;28;01mreturn\u001b[39;00m true\n",
      "\u001b[0;31mNameError\u001b[0m: name 'false' is not defined"
     ]
    }
   ],
   "source": [
    "def is_prime(num):\n",
    "    if num<2:\n",
    "        return false\n",
    "    for i in range(2,int(num**0.5)+1):\n",
    "        if num%2 == 0:\n",
    "            return false\n",
    "        return true\n",
    "def primes(limit):\n",
    "    num = 2\n",
    "    while num <limit:\n",
    "        if is_prime(num):\n",
    "            yield num\n",
    "        num += 1\n",
    "primes_gen = primes(1000)\n",
    "\n",
    "for _ in range(20):\n",
    "    print(next(primes_gen))\n",
    "    "
   ]
  },
  {
   "cell_type": "code",
   "execution_count": 58,
   "id": "cf36225a-45e7-45d3-97bd-cd8faec66dd9",
   "metadata": {},
   "outputs": [
    {
     "ename": "NameError",
     "evalue": "name 'false' is not defined",
     "output_type": "error",
     "traceback": [
      "\u001b[0;31m---------------------------------------------------------------------------\u001b[0m",
      "\u001b[0;31mNameError\u001b[0m                                 Traceback (most recent call last)",
      "Cell \u001b[0;32mIn [58], line 10\u001b[0m\n\u001b[1;32m      7\u001b[0m primes_gen \u001b[38;5;241m=\u001b[39m primes(\u001b[38;5;241m1000\u001b[39m)\n\u001b[1;32m      9\u001b[0m \u001b[38;5;28;01mfor\u001b[39;00m _ \u001b[38;5;129;01min\u001b[39;00m \u001b[38;5;28mrange\u001b[39m(\u001b[38;5;241m20\u001b[39m):\n\u001b[0;32m---> 10\u001b[0m    \u001b[38;5;28mprint\u001b[39m(\u001b[38;5;28;43mnext\u001b[39;49m\u001b[43m(\u001b[49m\u001b[43mprimes_gen\u001b[49m\u001b[43m)\u001b[49m)\n",
      "Cell \u001b[0;32mIn [58], line 4\u001b[0m, in \u001b[0;36mprimes\u001b[0;34m(limit)\u001b[0m\n\u001b[1;32m      2\u001b[0m num \u001b[38;5;241m=\u001b[39m \u001b[38;5;241m2\u001b[39m\n\u001b[1;32m      3\u001b[0m \u001b[38;5;28;01mwhile\u001b[39;00m num \u001b[38;5;241m<\u001b[39mlimit:\n\u001b[0;32m----> 4\u001b[0m     \u001b[38;5;28;01mif\u001b[39;00m \u001b[43mis_prime\u001b[49m\u001b[43m(\u001b[49m\u001b[43mnum\u001b[49m\u001b[43m)\u001b[49m:\n\u001b[1;32m      5\u001b[0m         \u001b[38;5;28;01myield\u001b[39;00m num\n\u001b[1;32m      6\u001b[0m     num \u001b[38;5;241m+\u001b[39m\u001b[38;5;241m=\u001b[39m \u001b[38;5;241m1\u001b[39m\n",
      "Cell \u001b[0;32mIn [46], line 6\u001b[0m, in \u001b[0;36mis_prime\u001b[0;34m(num)\u001b[0m\n\u001b[1;32m      4\u001b[0m \u001b[38;5;28;01mfor\u001b[39;00m i \u001b[38;5;129;01min\u001b[39;00m \u001b[38;5;28mrange\u001b[39m(\u001b[38;5;241m2\u001b[39m,\u001b[38;5;28mint\u001b[39m(num\u001b[38;5;241m*\u001b[39m\u001b[38;5;241m*\u001b[39m\u001b[38;5;241m0.5\u001b[39m)\u001b[38;5;241m+\u001b[39m\u001b[38;5;241m1\u001b[39m):\n\u001b[1;32m      5\u001b[0m     \u001b[38;5;28;01mif\u001b[39;00m num\u001b[38;5;241m%\u001b[39m\u001b[38;5;241m2\u001b[39m \u001b[38;5;241m==\u001b[39m \u001b[38;5;241m0\u001b[39m:\n\u001b[0;32m----> 6\u001b[0m         \u001b[38;5;28;01mreturn\u001b[39;00m \u001b[43mfalse\u001b[49m\n\u001b[1;32m      7\u001b[0m     \u001b[38;5;28;01mreturn\u001b[39;00m true\n",
      "\u001b[0;31mNameError\u001b[0m: name 'false' is not defined"
     ]
    }
   ],
   "source": []
  },
  {
   "cell_type": "code",
   "execution_count": 60,
   "id": "7672edcd-e402-4559-ac19-dbe6e8cc5010",
   "metadata": {},
   "outputs": [
    {
     "name": "stdout",
     "output_type": "stream",
     "text": [
      "2\n",
      "3\n",
      "5\n",
      "7\n",
      "11\n",
      "13\n",
      "17\n",
      "19\n",
      "23\n",
      "29\n",
      "31\n",
      "37\n",
      "41\n",
      "43\n",
      "47\n",
      "53\n",
      "59\n",
      "61\n",
      "67\n",
      "71\n"
     ]
    }
   ],
   "source": [
    "def is_prime(num):\n",
    "    if num < 2:\n",
    "        return False\n",
    "    for i in range(2, int(num ** 0.5) + 1):\n",
    "        if num % i == 0:\n",
    "            return False\n",
    "    return True\n",
    "\n",
    "def primes(limit):\n",
    "    num = 2\n",
    "    while num < limit:\n",
    "        if is_prime(num):\n",
    "            yield num\n",
    "        num += 1\n",
    "\n",
    "\n",
    "primes_gen = primes(1000)\n",
    "\n",
    "for _ in range(20):\n",
    "    print(next(primes_gen))\n"
   ]
  },
  {
   "cell_type": "code",
   "execution_count": 61,
   "id": "23fd87e0-f327-40b4-8267-9f84f93a477f",
   "metadata": {},
   "outputs": [],
   "source": [
    "Q6. Write a python program to print the first 10 Fibonacci numbers using a while loop."
   ]
  },
  {
   "cell_type": "code",
   "execution_count": 68,
   "id": "80a506b3-6880-4bb0-987d-52a753b1721a",
   "metadata": {},
   "outputs": [
    {
     "name": "stdout",
     "output_type": "stream",
     "text": [
      "[0, 1, 1, 2, 3, 5, 8, 13, 21, 34]\n"
     ]
    }
   ],
   "source": [
    "def fibo(limit):\n",
    "    fib = []\n",
    "    a = 0\n",
    "    b = 1\n",
    "    i = 0\n",
    "\n",
    "    while i < limit:\n",
    "        fib.append(a)\n",
    "        a, b = b, a + b\n",
    "        i = i + 1\n",
    "\n",
    "    return fib\n",
    "\n",
    "first_10_num = fibo(10)\n",
    "print(first_10_num)\n",
    "\n",
    "   "
   ]
  },
  {
   "cell_type": "code",
   "execution_count": 69,
   "id": "b84baee8-abf7-4aa5-8ac0-dffc7c7408c1",
   "metadata": {},
   "outputs": [],
   "source": [
    "Q7. Write a List Comprehension to iterate through the given string: ‘pwskills’.\n",
    "\n",
    "Expected output: ['p', 'w', 's', 'k', 'i', 'l', 'l', 's'] \n"
   ]
  },
  {
   "cell_type": "code",
   "execution_count": 70,
   "id": "3f13024e-fde1-46f1-b04d-73937d3524fc",
   "metadata": {},
   "outputs": [
    {
     "name": "stdout",
     "output_type": "stream",
     "text": [
      "['p', 'w', 's', 'k', 'i', 'l', 'l', 's']\n"
     ]
    }
   ],
   "source": [
    "input_string = 'pwskills'\n",
    "result = [char for char in input_string]\n",
    "print(result)\n"
   ]
  },
  {
   "cell_type": "code",
   "execution_count": 71,
   "id": "e549c5c9-2723-421d-b9f1-e2d1657bbd13",
   "metadata": {},
   "outputs": [],
   "source": [
    "Q8. Write a python program to check whether a given number is Palindrome or not using a while loop."
   ]
  },
  {
   "cell_type": "code",
   "execution_count": 73,
   "id": "646b65ae-0942-4905-84d3-59079d999751",
   "metadata": {},
   "outputs": [
    {
     "name": "stdout",
     "output_type": "stream",
     "text": [
      "True\n"
     ]
    }
   ],
   "source": [
    "def is_pallindrome(number):\n",
    "    number_str = str(number)\n",
    "    return number_str == number_str[::-1]\n",
    "\n",
    "print(is_pallindrome(121))"
   ]
  },
  {
   "cell_type": "code",
   "execution_count": null,
   "id": "86c5dfe4-e2c2-4003-9e06-a08972dd3723",
   "metadata": {},
   "outputs": [],
   "source": []
  }
 ],
 "metadata": {
  "kernelspec": {
   "display_name": "Python 3 (ipykernel)",
   "language": "python",
   "name": "python3"
  },
  "language_info": {
   "codemirror_mode": {
    "name": "ipython",
    "version": 3
   },
   "file_extension": ".py",
   "mimetype": "text/x-python",
   "name": "python",
   "nbconvert_exporter": "python",
   "pygments_lexer": "ipython3",
   "version": "3.10.6"
  }
 },
 "nbformat": 4,
 "nbformat_minor": 5
}
